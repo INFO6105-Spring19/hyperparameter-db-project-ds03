{
 "cells": [
  {
   "cell_type": "code",
   "execution_count": 1,
   "metadata": {},
   "outputs": [
    {
     "name": "stdout",
     "output_type": "stream",
     "text": [
      "Checking whether there is an H2O instance running at http://localhost:54321 . connected.\n"
     ]
    },
    {
     "data": {
      "text/html": [
       "<div style=\"overflow:auto\"><table style=\"width:50%\"><tr><td>H2O cluster uptime:</td>\n",
       "<td>4 hours 30 mins</td></tr>\n",
       "<tr><td>H2O cluster timezone:</td>\n",
       "<td>America/New_York</td></tr>\n",
       "<tr><td>H2O data parsing timezone:</td>\n",
       "<td>UTC</td></tr>\n",
       "<tr><td>H2O cluster version:</td>\n",
       "<td>3.24.0.1</td></tr>\n",
       "<tr><td>H2O cluster version age:</td>\n",
       "<td>9 days </td></tr>\n",
       "<tr><td>H2O cluster name:</td>\n",
       "<td>H2O_from_python_Manvi_fwrqwr</td></tr>\n",
       "<tr><td>H2O cluster total nodes:</td>\n",
       "<td>1</td></tr>\n",
       "<tr><td>H2O cluster free memory:</td>\n",
       "<td>1.483 Gb</td></tr>\n",
       "<tr><td>H2O cluster total cores:</td>\n",
       "<td>8</td></tr>\n",
       "<tr><td>H2O cluster allowed cores:</td>\n",
       "<td>8</td></tr>\n",
       "<tr><td>H2O cluster status:</td>\n",
       "<td>locked, healthy</td></tr>\n",
       "<tr><td>H2O connection url:</td>\n",
       "<td>http://localhost:54321</td></tr>\n",
       "<tr><td>H2O connection proxy:</td>\n",
       "<td>None</td></tr>\n",
       "<tr><td>H2O internal security:</td>\n",
       "<td>False</td></tr>\n",
       "<tr><td>H2O API Extensions:</td>\n",
       "<td>Amazon S3, Algos, AutoML, Core V3, Core V4</td></tr>\n",
       "<tr><td>Python version:</td>\n",
       "<td>3.6.7 final</td></tr></table></div>"
      ],
      "text/plain": [
       "--------------------------  ------------------------------------------\n",
       "H2O cluster uptime:         4 hours 30 mins\n",
       "H2O cluster timezone:       America/New_York\n",
       "H2O data parsing timezone:  UTC\n",
       "H2O cluster version:        3.24.0.1\n",
       "H2O cluster version age:    9 days\n",
       "H2O cluster name:           H2O_from_python_Manvi_fwrqwr\n",
       "H2O cluster total nodes:    1\n",
       "H2O cluster free memory:    1.483 Gb\n",
       "H2O cluster total cores:    8\n",
       "H2O cluster allowed cores:  8\n",
       "H2O cluster status:         locked, healthy\n",
       "H2O connection url:         http://localhost:54321\n",
       "H2O connection proxy:\n",
       "H2O internal security:      False\n",
       "H2O API Extensions:         Amazon S3, Algos, AutoML, Core V3, Core V4\n",
       "Python version:             3.6.7 final\n",
       "--------------------------  ------------------------------------------"
      ]
     },
     "metadata": {},
     "output_type": "display_data"
    }
   ],
   "source": [
    "import h2o\n",
    "h2o.init()"
   ]
  },
  {
   "cell_type": "code",
   "execution_count": 2,
   "metadata": {},
   "outputs": [],
   "source": [
    "from h2o.automl import H2OAutoML\n",
    "import random, os, sys\n",
    "from datetime import datetime\n",
    "import pandas as pd\n",
    "import logging\n",
    "import csv\n",
    "import optparse\n",
    "import time\n",
    "import json\n",
    "from distutils.util import strtobool\n",
    "import psutil\n",
    "import numpy as np\n",
    "import warnings\n",
    "warnings.filterwarnings('ignore')"
   ]
  },
  {
   "cell_type": "code",
   "execution_count": 3,
   "metadata": {},
   "outputs": [],
   "source": [
    "target='Dataset'\n",
    "run_time=500\n",
    "pct_memory=0.5\n",
    "server_path=None  \n",
    "virtual_memory=psutil.virtual_memory()\n",
    "min_mem_size=int(round(int(pct_memory*virtual_memory.available)/1073741824,0))"
   ]
  },
  {
   "cell_type": "code",
   "execution_count": 4,
   "metadata": {},
   "outputs": [
    {
     "name": "stdout",
     "output_type": "stream",
     "text": [
      "Checking whether there is an H2O instance running at http://localhost:19055 ..... not found.\n",
      "Attempting to start a local H2O server...\n",
      "; Java HotSpot(TM) 64-Bit Server VM (build 25.201-b09, mixed mode)\n",
      "  Starting server from C:\\Users\\Manvi\\Anaconda3\\lib\\site-packages\\h2o\\backend\\bin\\h2o.jar\n",
      "  Ice root: C:\\Users\\Manvi\\AppData\\Local\\Temp\\tmpirthrr1o\n",
      "  JVM stdout: C:\\Users\\Manvi\\AppData\\Local\\Temp\\tmpirthrr1o\\h2o_Manvi_started_from_python.out\n",
      "  JVM stderr: C:\\Users\\Manvi\\AppData\\Local\\Temp\\tmpirthrr1o\\h2o_Manvi_started_from_python.err\n",
      "  Server is running at http://127.0.0.1:19055\n",
      "Connecting to H2O server at http://127.0.0.1:19055 ... successful.\n"
     ]
    },
    {
     "data": {
      "text/html": [
       "<div style=\"overflow:auto\"><table style=\"width:50%\"><tr><td>H2O cluster uptime:</td>\n",
       "<td>02 secs</td></tr>\n",
       "<tr><td>H2O cluster timezone:</td>\n",
       "<td>America/New_York</td></tr>\n",
       "<tr><td>H2O data parsing timezone:</td>\n",
       "<td>UTC</td></tr>\n",
       "<tr><td>H2O cluster version:</td>\n",
       "<td>3.24.0.1</td></tr>\n",
       "<tr><td>H2O cluster version age:</td>\n",
       "<td>9 days </td></tr>\n",
       "<tr><td>H2O cluster name:</td>\n",
       "<td>H2O_from_python_Manvi_zihlbs</td></tr>\n",
       "<tr><td>H2O cluster total nodes:</td>\n",
       "<td>1</td></tr>\n",
       "<tr><td>H2O cluster free memory:</td>\n",
       "<td>1.752 Gb</td></tr>\n",
       "<tr><td>H2O cluster total cores:</td>\n",
       "<td>8</td></tr>\n",
       "<tr><td>H2O cluster allowed cores:</td>\n",
       "<td>8</td></tr>\n",
       "<tr><td>H2O cluster status:</td>\n",
       "<td>accepting new members, healthy</td></tr>\n",
       "<tr><td>H2O connection url:</td>\n",
       "<td>http://127.0.0.1:19055</td></tr>\n",
       "<tr><td>H2O connection proxy:</td>\n",
       "<td>None</td></tr>\n",
       "<tr><td>H2O internal security:</td>\n",
       "<td>False</td></tr>\n",
       "<tr><td>H2O API Extensions:</td>\n",
       "<td>Amazon S3, Algos, AutoML, Core V3, Core V4</td></tr>\n",
       "<tr><td>Python version:</td>\n",
       "<td>3.6.7 final</td></tr></table></div>"
      ],
      "text/plain": [
       "--------------------------  ------------------------------------------\n",
       "H2O cluster uptime:         02 secs\n",
       "H2O cluster timezone:       America/New_York\n",
       "H2O data parsing timezone:  UTC\n",
       "H2O cluster version:        3.24.0.1\n",
       "H2O cluster version age:    9 days\n",
       "H2O cluster name:           H2O_from_python_Manvi_zihlbs\n",
       "H2O cluster total nodes:    1\n",
       "H2O cluster free memory:    1.752 Gb\n",
       "H2O cluster total cores:    8\n",
       "H2O cluster allowed cores:  8\n",
       "H2O cluster status:         accepting new members, healthy\n",
       "H2O connection url:         http://127.0.0.1:19055\n",
       "H2O connection proxy:\n",
       "H2O internal security:      False\n",
       "H2O API Extensions:         Amazon S3, Algos, AutoML, Core V3, Core V4\n",
       "Python version:             3.6.7 final\n",
       "--------------------------  ------------------------------------------"
      ]
     },
     "metadata": {},
     "output_type": "display_data"
    }
   ],
   "source": [
    "port_no=random.randint(5555,55555)\n",
    "h2o.init(strict_version_check=False,min_mem_size_GB=min_mem_size,port=port_no)"
   ]
  },
  {
   "cell_type": "code",
   "execution_count": 5,
   "metadata": {},
   "outputs": [
    {
     "name": "stdout",
     "output_type": "stream",
     "text": [
      "Parse progress: |█████████████████████████████████████████████████████████| 100%\n"
     ]
    }
   ],
   "source": [
    "#importing data to the server\n",
    "df = h2o.import_file(path=\"indian_liver_patient.csv\")"
   ]
  },
  {
   "cell_type": "code",
   "execution_count": 6,
   "metadata": {},
   "outputs": [
    {
     "data": {
      "text/html": [
       "<table>\n",
       "<thead>\n",
       "<tr><th style=\"text-align: right;\">  Age</th><th>Gender  </th><th style=\"text-align: right;\">  Total_Bilirubin</th><th style=\"text-align: right;\">  Direct_Bilirubin</th><th style=\"text-align: right;\">  Alkaline_Phosphotase</th><th style=\"text-align: right;\">  Alamine_Aminotransferase</th><th style=\"text-align: right;\">  Aspartate_Aminotransferase</th><th style=\"text-align: right;\">  Total_Protiens</th><th style=\"text-align: right;\">  Albumin</th><th style=\"text-align: right;\">  Albumin_and_Globulin_Ratio</th><th style=\"text-align: right;\">  Dataset</th></tr>\n",
       "</thead>\n",
       "<tbody>\n",
       "<tr><td style=\"text-align: right;\">   65</td><td>Female  </td><td style=\"text-align: right;\">              0.7</td><td style=\"text-align: right;\">               0.1</td><td style=\"text-align: right;\">                   187</td><td style=\"text-align: right;\">                        16</td><td style=\"text-align: right;\">                          18</td><td style=\"text-align: right;\">             6.8</td><td style=\"text-align: right;\">      3.3</td><td style=\"text-align: right;\">                        0.9 </td><td style=\"text-align: right;\">        1</td></tr>\n",
       "<tr><td style=\"text-align: right;\">   62</td><td>Male    </td><td style=\"text-align: right;\">             10.9</td><td style=\"text-align: right;\">               5.5</td><td style=\"text-align: right;\">                   699</td><td style=\"text-align: right;\">                        64</td><td style=\"text-align: right;\">                         100</td><td style=\"text-align: right;\">             7.5</td><td style=\"text-align: right;\">      3.2</td><td style=\"text-align: right;\">                        0.74</td><td style=\"text-align: right;\">        1</td></tr>\n",
       "<tr><td style=\"text-align: right;\">   62</td><td>Male    </td><td style=\"text-align: right;\">              7.3</td><td style=\"text-align: right;\">               4.1</td><td style=\"text-align: right;\">                   490</td><td style=\"text-align: right;\">                        60</td><td style=\"text-align: right;\">                          68</td><td style=\"text-align: right;\">             7  </td><td style=\"text-align: right;\">      3.3</td><td style=\"text-align: right;\">                        0.89</td><td style=\"text-align: right;\">        1</td></tr>\n",
       "<tr><td style=\"text-align: right;\">   58</td><td>Male    </td><td style=\"text-align: right;\">              1  </td><td style=\"text-align: right;\">               0.4</td><td style=\"text-align: right;\">                   182</td><td style=\"text-align: right;\">                        14</td><td style=\"text-align: right;\">                          20</td><td style=\"text-align: right;\">             6.8</td><td style=\"text-align: right;\">      3.4</td><td style=\"text-align: right;\">                        1   </td><td style=\"text-align: right;\">        1</td></tr>\n",
       "<tr><td style=\"text-align: right;\">   72</td><td>Male    </td><td style=\"text-align: right;\">              3.9</td><td style=\"text-align: right;\">               2  </td><td style=\"text-align: right;\">                   195</td><td style=\"text-align: right;\">                        27</td><td style=\"text-align: right;\">                          59</td><td style=\"text-align: right;\">             7.3</td><td style=\"text-align: right;\">      2.4</td><td style=\"text-align: right;\">                        0.4 </td><td style=\"text-align: right;\">        1</td></tr>\n",
       "<tr><td style=\"text-align: right;\">   46</td><td>Male    </td><td style=\"text-align: right;\">              1.8</td><td style=\"text-align: right;\">               0.7</td><td style=\"text-align: right;\">                   208</td><td style=\"text-align: right;\">                        19</td><td style=\"text-align: right;\">                          14</td><td style=\"text-align: right;\">             7.6</td><td style=\"text-align: right;\">      4.4</td><td style=\"text-align: right;\">                        1.3 </td><td style=\"text-align: right;\">        1</td></tr>\n",
       "<tr><td style=\"text-align: right;\">   26</td><td>Female  </td><td style=\"text-align: right;\">              0.9</td><td style=\"text-align: right;\">               0.2</td><td style=\"text-align: right;\">                   154</td><td style=\"text-align: right;\">                        16</td><td style=\"text-align: right;\">                          12</td><td style=\"text-align: right;\">             7  </td><td style=\"text-align: right;\">      3.5</td><td style=\"text-align: right;\">                        1   </td><td style=\"text-align: right;\">        1</td></tr>\n",
       "<tr><td style=\"text-align: right;\">   29</td><td>Female  </td><td style=\"text-align: right;\">              0.9</td><td style=\"text-align: right;\">               0.3</td><td style=\"text-align: right;\">                   202</td><td style=\"text-align: right;\">                        14</td><td style=\"text-align: right;\">                          11</td><td style=\"text-align: right;\">             6.7</td><td style=\"text-align: right;\">      3.6</td><td style=\"text-align: right;\">                        1.1 </td><td style=\"text-align: right;\">        1</td></tr>\n",
       "<tr><td style=\"text-align: right;\">   17</td><td>Male    </td><td style=\"text-align: right;\">              0.9</td><td style=\"text-align: right;\">               0.3</td><td style=\"text-align: right;\">                   202</td><td style=\"text-align: right;\">                        22</td><td style=\"text-align: right;\">                          19</td><td style=\"text-align: right;\">             7.4</td><td style=\"text-align: right;\">      4.1</td><td style=\"text-align: right;\">                        1.2 </td><td style=\"text-align: right;\">        2</td></tr>\n",
       "<tr><td style=\"text-align: right;\">   55</td><td>Male    </td><td style=\"text-align: right;\">              0.7</td><td style=\"text-align: right;\">               0.2</td><td style=\"text-align: right;\">                   290</td><td style=\"text-align: right;\">                        53</td><td style=\"text-align: right;\">                          58</td><td style=\"text-align: right;\">             6.8</td><td style=\"text-align: right;\">      3.4</td><td style=\"text-align: right;\">                        1   </td><td style=\"text-align: right;\">        1</td></tr>\n",
       "</tbody>\n",
       "</table>"
      ]
     },
     "metadata": {},
     "output_type": "display_data"
    },
    {
     "data": {
      "text/plain": []
     },
     "execution_count": 6,
     "metadata": {},
     "output_type": "execute_result"
    }
   ],
   "source": [
    "df.head()"
   ]
  },
  {
   "cell_type": "code",
   "execution_count": 7,
   "metadata": {},
   "outputs": [
    {
     "name": "stdout",
     "output_type": "stream",
     "text": [
      "Checking whether there is an H2O instance running at http://localhost:19055 . connected.\n"
     ]
    },
    {
     "data": {
      "text/html": [
       "<div style=\"overflow:auto\"><table style=\"width:50%\"><tr><td>H2O cluster uptime:</td>\n",
       "<td>07 secs</td></tr>\n",
       "<tr><td>H2O cluster timezone:</td>\n",
       "<td>America/New_York</td></tr>\n",
       "<tr><td>H2O data parsing timezone:</td>\n",
       "<td>UTC</td></tr>\n",
       "<tr><td>H2O cluster version:</td>\n",
       "<td>3.24.0.1</td></tr>\n",
       "<tr><td>H2O cluster version age:</td>\n",
       "<td>9 days </td></tr>\n",
       "<tr><td>H2O cluster name:</td>\n",
       "<td>H2O_from_python_Manvi_zihlbs</td></tr>\n",
       "<tr><td>H2O cluster total nodes:</td>\n",
       "<td>1</td></tr>\n",
       "<tr><td>H2O cluster free memory:</td>\n",
       "<td>1.729 Gb</td></tr>\n",
       "<tr><td>H2O cluster total cores:</td>\n",
       "<td>8</td></tr>\n",
       "<tr><td>H2O cluster allowed cores:</td>\n",
       "<td>8</td></tr>\n",
       "<tr><td>H2O cluster status:</td>\n",
       "<td>locked, healthy</td></tr>\n",
       "<tr><td>H2O connection url:</td>\n",
       "<td>http://localhost:19055</td></tr>\n",
       "<tr><td>H2O connection proxy:</td>\n",
       "<td>None</td></tr>\n",
       "<tr><td>H2O internal security:</td>\n",
       "<td>False</td></tr>\n",
       "<tr><td>H2O API Extensions:</td>\n",
       "<td>Amazon S3, Algos, AutoML, Core V3, Core V4</td></tr>\n",
       "<tr><td>Python version:</td>\n",
       "<td>3.6.7 final</td></tr></table></div>"
      ],
      "text/plain": [
       "--------------------------  ------------------------------------------\n",
       "H2O cluster uptime:         07 secs\n",
       "H2O cluster timezone:       America/New_York\n",
       "H2O data parsing timezone:  UTC\n",
       "H2O cluster version:        3.24.0.1\n",
       "H2O cluster version age:    9 days\n",
       "H2O cluster name:           H2O_from_python_Manvi_zihlbs\n",
       "H2O cluster total nodes:    1\n",
       "H2O cluster free memory:    1.729 Gb\n",
       "H2O cluster total cores:    8\n",
       "H2O cluster allowed cores:  8\n",
       "H2O cluster status:         locked, healthy\n",
       "H2O connection url:         http://localhost:19055\n",
       "H2O connection proxy:\n",
       "H2O internal security:      False\n",
       "H2O API Extensions:         Amazon S3, Algos, AutoML, Core V3, Core V4\n",
       "Python version:             3.6.7 final\n",
       "--------------------------  ------------------------------------------"
      ]
     },
     "metadata": {},
     "output_type": "display_data"
    }
   ],
   "source": [
    "##port_no=random.randint(5555,55555)\n",
    "\n",
    "#  h2o.init(strict_version_check=False,min_mem_size_GB=min_mem_size,port=port_no) # start h2o\n",
    "try:\n",
    "  h2o.init(strict_version_check=False,min_mem_size_GB=min_mem_size,port=port_no) # start h2o\n",
    "except:\n",
    "  logging.critical('h2o.init')\n",
    "  h2o.download_all_logs(dirname=logs_path, filename=logfile)      \n",
    "  h2o.cluster().shutdown()\n",
    "  sys.exit(2)"
   ]
  },
  {
   "cell_type": "code",
   "execution_count": 8,
   "metadata": {},
   "outputs": [],
   "source": [
    "def get_independent_variables(df, targ):\n",
    "  C = [name for name in df.columns if name != targ]\n",
    "  # determine column types\n",
    "  ints, reals, enums = [], [], []\n",
    "  for key, val in df.types.items():\n",
    "      if key in C:\n",
    "          if val == 'enum':\n",
    "              enums.append(key)\n",
    "          elif val == 'int':\n",
    "              ints.append(key)\n",
    "          else:\n",
    "              reals.append(key)\n",
    "  x=ints+enums+reals\n",
    "  return x"
   ]
  },
  {
   "cell_type": "code",
   "execution_count": 9,
   "metadata": {},
   "outputs": [
    {
     "name": "stdout",
     "output_type": "stream",
     "text": [
      "['Age', 'Alkaline_Phosphotase', 'Alamine_Aminotransferase', 'Aspartate_Aminotransferase', 'Gender', 'Total_Bilirubin', 'Direct_Bilirubin', 'Total_Protiens', 'Albumin', 'Albumin_and_Globulin_Ratio']\n"
     ]
    }
   ],
   "source": [
    "X=get_independent_variables(df, target)\n",
    "print(X)\n"
   ]
  },
  {
   "cell_type": "code",
   "execution_count": 10,
   "metadata": {},
   "outputs": [],
   "source": [
    "y = target"
   ]
  },
  {
   "cell_type": "code",
   "execution_count": 11,
   "metadata": {},
   "outputs": [],
   "source": [
    "aml = H2OAutoML(max_runtime_secs=run_time,exclude_algos = ['DeepLearning'])"
   ]
  },
  {
   "cell_type": "code",
   "execution_count": 12,
   "metadata": {},
   "outputs": [
    {
     "name": "stdout",
     "output_type": "stream",
     "text": [
      "AutoML progress: |████████████████████████████████████████████████████████| 100%\n"
     ]
    },
    {
     "data": {
      "text/html": [
       "<table>\n",
       "<thead>\n",
       "<tr><th>model_id                                           </th><th style=\"text-align: right;\">  mean_residual_deviance</th><th style=\"text-align: right;\">    rmse</th><th style=\"text-align: right;\">     mse</th><th style=\"text-align: right;\">     mae</th><th style=\"text-align: right;\">   rmsle</th></tr>\n",
       "</thead>\n",
       "<tbody>\n",
       "<tr><td>StackedEnsemble_BestOfFamily_AutoML_20190410_152634</td><td style=\"text-align: right;\">                0.17309 </td><td style=\"text-align: right;\">0.41604 </td><td style=\"text-align: right;\">0.17309 </td><td style=\"text-align: right;\">0.346016</td><td style=\"text-align: right;\">0.169418</td></tr>\n",
       "<tr><td>GBM_5_AutoML_20190410_152634                       </td><td style=\"text-align: right;\">                0.173373</td><td style=\"text-align: right;\">0.416381</td><td style=\"text-align: right;\">0.173373</td><td style=\"text-align: right;\">0.352587</td><td style=\"text-align: right;\">0.16949 </td></tr>\n",
       "<tr><td>GBM_grid_1_AutoML_20190410_152634_model_24         </td><td style=\"text-align: right;\">                0.174536</td><td style=\"text-align: right;\">0.417775</td><td style=\"text-align: right;\">0.174536</td><td style=\"text-align: right;\">0.346285</td><td style=\"text-align: right;\">0.170271</td></tr>\n",
       "<tr><td>GBM_grid_1_AutoML_20190410_152634_model_18         </td><td style=\"text-align: right;\">                0.174902</td><td style=\"text-align: right;\">0.418213</td><td style=\"text-align: right;\">0.174902</td><td style=\"text-align: right;\">0.348289</td><td style=\"text-align: right;\">0.170324</td></tr>\n",
       "<tr><td>StackedEnsemble_AllModels_AutoML_20190410_152634   </td><td style=\"text-align: right;\">                0.174982</td><td style=\"text-align: right;\">0.418308</td><td style=\"text-align: right;\">0.174982</td><td style=\"text-align: right;\">0.345653</td><td style=\"text-align: right;\">0.170411</td></tr>\n",
       "<tr><td>GBM_grid_1_AutoML_20190410_152634_model_1          </td><td style=\"text-align: right;\">                0.176919</td><td style=\"text-align: right;\">0.420617</td><td style=\"text-align: right;\">0.176919</td><td style=\"text-align: right;\">0.354548</td><td style=\"text-align: right;\">0.171149</td></tr>\n",
       "<tr><td>GBM_grid_1_AutoML_20190410_152634_model_23         </td><td style=\"text-align: right;\">                0.178573</td><td style=\"text-align: right;\">0.422579</td><td style=\"text-align: right;\">0.178573</td><td style=\"text-align: right;\">0.351536</td><td style=\"text-align: right;\">0.172433</td></tr>\n",
       "<tr><td>GBM_3_AutoML_20190410_152634                       </td><td style=\"text-align: right;\">                0.180935</td><td style=\"text-align: right;\">0.425365</td><td style=\"text-align: right;\">0.180935</td><td style=\"text-align: right;\">0.342719</td><td style=\"text-align: right;\">0.173432</td></tr>\n",
       "<tr><td>GBM_4_AutoML_20190410_152634                       </td><td style=\"text-align: right;\">                0.181599</td><td style=\"text-align: right;\">0.426145</td><td style=\"text-align: right;\">0.181599</td><td style=\"text-align: right;\">0.341035</td><td style=\"text-align: right;\">0.173937</td></tr>\n",
       "<tr><td>GBM_grid_1_AutoML_20190410_152634_model_5          </td><td style=\"text-align: right;\">                0.181668</td><td style=\"text-align: right;\">0.426225</td><td style=\"text-align: right;\">0.181668</td><td style=\"text-align: right;\">0.345364</td><td style=\"text-align: right;\">0.173913</td></tr>\n",
       "</tbody>\n",
       "</table>"
      ]
     },
     "metadata": {},
     "output_type": "display_data"
    },
    {
     "name": "stdout",
     "output_type": "stream",
     "text": [
      "\n"
     ]
    }
   ],
   "source": [
    "aml.train(x=X,y=y,training_frame=df)\n",
    "print(aml.leaderboard)"
   ]
  },
  {
   "cell_type": "code",
   "execution_count": 13,
   "metadata": {},
   "outputs": [],
   "source": [
    "best_model = h2o.get_model(aml.leaderboard[0,'model_id'])"
   ]
  },
  {
   "cell_type": "code",
   "execution_count": 14,
   "metadata": {},
   "outputs": [],
   "source": [
    "aml_leaderboard_df=aml.leaderboard.as_data_frame()\n",
    "model_set=aml_leaderboard_df['model_id']\n",
    "mod_best=h2o.get_model(model_set[0])"
   ]
  },
  {
   "cell_type": "code",
   "execution_count": 15,
   "metadata": {},
   "outputs": [
    {
     "data": {
      "text/plain": [
       "{'model_id': {'default': None,\n",
       "  'actual': {'__meta': {'schema_version': 3,\n",
       "    'schema_name': 'ModelKeyV3',\n",
       "    'schema_type': 'Key<Model>'},\n",
       "   'name': 'StackedEnsemble_BestOfFamily_AutoML_20190410_152634',\n",
       "   'type': 'Key<Model>',\n",
       "   'URL': '/3/Models/StackedEnsemble_BestOfFamily_AutoML_20190410_152634'}},\n",
       " 'training_frame': {'default': None,\n",
       "  'actual': {'__meta': {'schema_version': 3,\n",
       "    'schema_name': 'FrameKeyV3',\n",
       "    'schema_type': 'Key<Frame>'},\n",
       "   'name': 'automl_training_indian_liver_patient.hex',\n",
       "   'type': 'Key<Frame>',\n",
       "   'URL': '/3/Frames/automl_training_indian_liver_patient.hex'}},\n",
       " 'response_column': {'default': None,\n",
       "  'actual': {'__meta': {'schema_version': 3,\n",
       "    'schema_name': 'ColSpecifierV3',\n",
       "    'schema_type': 'VecSpecifier'},\n",
       "   'column_name': 'Dataset',\n",
       "   'is_member_of_frames': None}},\n",
       " 'validation_frame': {'default': None, 'actual': None},\n",
       " 'blending_frame': {'default': None, 'actual': None},\n",
       " 'base_models': {'default': [],\n",
       "  'actual': [{'__meta': {'schema_version': 3,\n",
       "     'schema_name': 'ModelKeyV3',\n",
       "     'schema_type': 'Key<Model>'},\n",
       "    'name': 'GBM_5_AutoML_20190410_152634',\n",
       "    'type': 'Key<Model>',\n",
       "    'URL': '/3/Models/GBM_5_AutoML_20190410_152634'},\n",
       "   {'__meta': {'schema_version': 3,\n",
       "     'schema_name': 'ModelKeyV3',\n",
       "     'schema_type': 'Key<Model>'},\n",
       "    'name': 'GLM_grid_1_AutoML_20190410_152634_model_1',\n",
       "    'type': 'Key<Model>',\n",
       "    'URL': '/3/Models/GLM_grid_1_AutoML_20190410_152634_model_1'},\n",
       "   {'__meta': {'schema_version': 3,\n",
       "     'schema_name': 'ModelKeyV3',\n",
       "     'schema_type': 'Key<Model>'},\n",
       "    'name': 'DRF_1_AutoML_20190410_152634',\n",
       "    'type': 'Key<Model>',\n",
       "    'URL': '/3/Models/DRF_1_AutoML_20190410_152634'},\n",
       "   {'__meta': {'schema_version': 3,\n",
       "     'schema_name': 'ModelKeyV3',\n",
       "     'schema_type': 'Key<Model>'},\n",
       "    'name': 'XRT_1_AutoML_20190410_152634',\n",
       "    'type': 'Key<Model>',\n",
       "    'URL': '/3/Models/XRT_1_AutoML_20190410_152634'}]},\n",
       " 'metalearner_algorithm': {'default': 'AUTO', 'actual': 'AUTO'},\n",
       " 'metalearner_nfolds': {'default': 0, 'actual': 5},\n",
       " 'metalearner_fold_assignment': {'default': None, 'actual': None},\n",
       " 'metalearner_fold_column': {'default': None, 'actual': None},\n",
       " 'metalearner_params': {'default': '', 'actual': ''},\n",
       " 'seed': {'default': -1, 'actual': -1474654374687644226},\n",
       " 'keep_levelone_frame': {'default': False, 'actual': True},\n",
       " 'export_checkpoints_dir': {'default': None, 'actual': None}}"
      ]
     },
     "execution_count": 15,
     "metadata": {},
     "output_type": "execute_result"
    }
   ],
   "source": [
    "mod_best.params"
   ]
  },
  {
   "cell_type": "code",
   "execution_count": 16,
   "metadata": {},
   "outputs": [
    {
     "ename": "NameError",
     "evalue": "name 'meta_data' is not defined",
     "output_type": "error",
     "traceback": [
      "\u001b[1;31m---------------------------------------------------------------------------\u001b[0m",
      "\u001b[1;31mNameError\u001b[0m                                 Traceback (most recent call last)",
      "\u001b[1;32m<ipython-input-16-06a79c70a22e>\u001b[0m in \u001b[0;36m<module>\u001b[1;34m\u001b[0m\n\u001b[1;32m----> 1\u001b[1;33m \u001b[0mmeta_data\u001b[0m\u001b[1;33m[\u001b[0m\u001b[1;34m'mod_best'\u001b[0m\u001b[1;33m]\u001b[0m\u001b[1;33m=\u001b[0m\u001b[0mmod_best\u001b[0m\u001b[1;33m.\u001b[0m\u001b[0m_id\u001b[0m\u001b[1;33m\u001b[0m\u001b[1;33m\u001b[0m\u001b[0m\n\u001b[0m\u001b[0;32m      2\u001b[0m \u001b[0mmeta_data\u001b[0m\u001b[1;33m[\u001b[0m\u001b[1;34m'mod_best_algo'\u001b[0m\u001b[1;33m]\u001b[0m\u001b[1;33m=\u001b[0m\u001b[0mmod_best\u001b[0m\u001b[1;33m.\u001b[0m\u001b[0malgo\u001b[0m\u001b[1;33m\u001b[0m\u001b[1;33m\u001b[0m\u001b[0m\n",
      "\u001b[1;31mNameError\u001b[0m: name 'meta_data' is not defined"
     ]
    }
   ],
   "source": [
    "meta_data['mod_best']=mod_best._id\n",
    "meta_data['mod_best_algo']=mod_best.algo"
   ]
  },
  {
   "cell_type": "code",
   "execution_count": null,
   "metadata": {},
   "outputs": [],
   "source": [
    "df.isna()"
   ]
  },
  {
   "cell_type": "code",
   "execution_count": null,
   "metadata": {},
   "outputs": [],
   "source": [
    "print(aml.leaderboard)"
   ]
  },
  {
   "cell_type": "code",
   "execution_count": null,
   "metadata": {},
   "outputs": [],
   "source": [
    "best_model = h2o.get_model(aml.leaderboard[0,'model_id'])"
   ]
  },
  {
   "cell_type": "code",
   "execution_count": null,
   "metadata": {},
   "outputs": [],
   "source": [
    "best_model.algo\n"
   ]
  },
  {
   "cell_type": "code",
   "execution_count": null,
   "metadata": {},
   "outputs": [],
   "source": [
    "import matplotlib.pyplot as plt\n",
    "%matplotlib inline\n",
    "\n",
    "import warnings\n",
    "import matplotlib.cbook\n",
    "warnings.filterwarnings(\"ignore\", category = matplotlib.cbook.mplDeprecation)"
   ]
  },
  {
   "cell_type": "code",
   "execution_count": null,
   "metadata": {},
   "outputs": [],
   "source": [
    "best_model.varimp_plot()"
   ]
  },
  {
   "cell_type": "code",
   "execution_count": null,
   "metadata": {},
   "outputs": [],
   "source": [
    "best_model._id"
   ]
  },
  {
   "cell_type": "code",
   "execution_count": null,
   "metadata": {},
   "outputs": [],
   "source": [
    "sh_df=mod.scoring_history()\n",
    "sh_df.to_csv(run_id+'_gbm_scoring_history.csv') "
   ]
  },
  {
   "cell_type": "code",
   "execution_count": 20,
   "metadata": {},
   "outputs": [
    {
     "data": {
      "text/plain": [
       "{'model_id': {'default': None,\n",
       "  'actual': {'__meta': {'schema_version': 3,\n",
       "    'schema_name': 'ModelKeyV3',\n",
       "    'schema_type': 'Key<Model>'},\n",
       "   'name': 'StackedEnsemble_BestOfFamily_AutoML_20190410_152634',\n",
       "   'type': 'Key<Model>',\n",
       "   'URL': '/3/Models/StackedEnsemble_BestOfFamily_AutoML_20190410_152634'}},\n",
       " 'training_frame': {'default': None,\n",
       "  'actual': {'__meta': {'schema_version': 3,\n",
       "    'schema_name': 'FrameKeyV3',\n",
       "    'schema_type': 'Key<Frame>'},\n",
       "   'name': 'automl_training_indian_liver_patient.hex',\n",
       "   'type': 'Key<Frame>',\n",
       "   'URL': '/3/Frames/automl_training_indian_liver_patient.hex'}},\n",
       " 'response_column': {'default': None,\n",
       "  'actual': {'__meta': {'schema_version': 3,\n",
       "    'schema_name': 'ColSpecifierV3',\n",
       "    'schema_type': 'VecSpecifier'},\n",
       "   'column_name': 'Dataset',\n",
       "   'is_member_of_frames': None}},\n",
       " 'validation_frame': {'default': None, 'actual': None},\n",
       " 'blending_frame': {'default': None, 'actual': None},\n",
       " 'base_models': {'default': [],\n",
       "  'actual': [{'__meta': {'schema_version': 3,\n",
       "     'schema_name': 'ModelKeyV3',\n",
       "     'schema_type': 'Key<Model>'},\n",
       "    'name': 'GBM_5_AutoML_20190410_152634',\n",
       "    'type': 'Key<Model>',\n",
       "    'URL': '/3/Models/GBM_5_AutoML_20190410_152634'},\n",
       "   {'__meta': {'schema_version': 3,\n",
       "     'schema_name': 'ModelKeyV3',\n",
       "     'schema_type': 'Key<Model>'},\n",
       "    'name': 'GLM_grid_1_AutoML_20190410_152634_model_1',\n",
       "    'type': 'Key<Model>',\n",
       "    'URL': '/3/Models/GLM_grid_1_AutoML_20190410_152634_model_1'},\n",
       "   {'__meta': {'schema_version': 3,\n",
       "     'schema_name': 'ModelKeyV3',\n",
       "     'schema_type': 'Key<Model>'},\n",
       "    'name': 'DRF_1_AutoML_20190410_152634',\n",
       "    'type': 'Key<Model>',\n",
       "    'URL': '/3/Models/DRF_1_AutoML_20190410_152634'},\n",
       "   {'__meta': {'schema_version': 3,\n",
       "     'schema_name': 'ModelKeyV3',\n",
       "     'schema_type': 'Key<Model>'},\n",
       "    'name': 'XRT_1_AutoML_20190410_152634',\n",
       "    'type': 'Key<Model>',\n",
       "    'URL': '/3/Models/XRT_1_AutoML_20190410_152634'}]},\n",
       " 'metalearner_algorithm': {'default': 'AUTO', 'actual': 'AUTO'},\n",
       " 'metalearner_nfolds': {'default': 0, 'actual': 5},\n",
       " 'metalearner_fold_assignment': {'default': None, 'actual': None},\n",
       " 'metalearner_fold_column': {'default': None, 'actual': None},\n",
       " 'metalearner_params': {'default': '', 'actual': ''},\n",
       " 'seed': {'default': -1, 'actual': -1474654374687644226},\n",
       " 'keep_levelone_frame': {'default': False, 'actual': True},\n",
       " 'export_checkpoints_dir': {'default': None, 'actual': None}}"
      ]
     },
     "execution_count": 20,
     "metadata": {},
     "output_type": "execute_result"
    }
   ],
   "source": [
    "best_model.params"
   ]
  },
  {
   "cell_type": "code",
   "execution_count": 19,
   "metadata": {},
   "outputs": [],
   "source": [
    "hy_parameter = mod_best.params\n",
    "n=run_id+'_hy_parameter.json'\n",
    "dict_to_json(hy_parameter,n)"
   ]
  },
  {
   "cell_type": "code",
   "execution_count": 18,
   "metadata": {},
   "outputs": [
    {
     "name": "stdout",
     "output_type": "stream",
     "text": [
      "iBiM5A87X\n"
     ]
    }
   ],
   "source": [
    "run_id=alphabet(9)\n",
    "if server_path==None:\n",
    "  server_path=os.path.abspath(os.curdir)\n",
    "os.chdir(server_path) \n",
    "run_dir = os.path.join(server_path,run_id)\n",
    "os.mkdir(run_dir)\n",
    "os.chdir(run_dir)    \n",
    "\n",
    "# run_id to std out\n",
    "print (run_id)"
   ]
  },
  {
   "cell_type": "code",
   "execution_count": 17,
   "metadata": {},
   "outputs": [],
   "source": [
    "def alphabet(n):\n",
    "  alpha='0123456789abcdefghijklmnopqrstuvwxyzABCDEFGHIJKLMNOPQRSTUVWXYZ'    \n",
    "  str=''\n",
    "  r=len(alpha)-1   \n",
    "  while len(str)<n:\n",
    "    i=random.randint(0,r)\n",
    "    str+=alpha[i]   \n",
    "  return str\n",
    "\n",
    "def set_meta_data(analysis,run_id,server,data,test,model_path,target,run_time,classification,scale,model,balance,balance_threshold,name,path,nthreads,min_mem_size):\n",
    "  m_data={}\n",
    "  m_data['start_time'] = time.time()\n",
    "  m_data['target']=target\n",
    "  m_data['server_path']=server\n",
    "  m_data['data_path']=data \n",
    "  m_data['test_path']=test\n",
    "  m_data['max_models']=model\n",
    "  m_data['run_time']=run_time\n",
    "  m_data['run_id'] =run_id\n",
    "  m_data['scale']=scale\n",
    "  m_data['classification']=classification\n",
    "  m_data['scale']=False\n",
    "  m_data['model_path']=model_path\n",
    "  m_data['balance']=balance\n",
    "  m_data['balance_threshold']=balance_threshold\n",
    "  m_data['project'] =name\n",
    "  m_data['end_time'] = time.time()\n",
    "  m_data['execution_time'] = 0.0\n",
    "  m_data['run_path'] =path\n",
    "  m_data['nthreads'] = nthreads\n",
    "  m_data['min_mem_size'] = min_mem_size\n",
    "  m_data['analysis'] = analysis\n",
    "  return m_data\n",
    "\n",
    "\n",
    "def dict_to_json(dct,n):\n",
    "  j = json.dumps(dct, indent=4)\n",
    "  f = open(n, 'w')\n",
    "  print(j, file=f)\n",
    "  f.close()\n",
    "    \n",
    "def get_model_by_algo(algo,models_dict):\n",
    "    mod=None\n",
    "    mod_id=None    \n",
    "    for m in list(models_dict.keys()):\n",
    "        if m[0:3]==algo:\n",
    "            mod_id=m\n",
    "            mod=h2o.get_model(m)      \n",
    "    return mod,mod_id         "
   ]
  },
  {
   "cell_type": "code",
   "execution_count": null,
   "metadata": {},
   "outputs": [],
   "source": [
    "# save leaderboard\n",
    "leaderboard_stats=run_id+'_leaderboard.csv'\n",
    "aml_leaderboard_df.to_csv(leaderboard_stats)"
   ]
  },
  {
   "cell_type": "code",
   "execution_count": null,
   "metadata": {},
   "outputs": [],
   "source": [
    "top=aml_leaderboard_df.iloc[0]['model_id']\n",
    "print(top)"
   ]
  },
  {
   "cell_type": "code",
   "execution_count": null,
   "metadata": {},
   "outputs": [],
   "source": [
    "# GBM\n",
    " \n",
    "mod,mod_id=get_model_by_algo(\"GBM\",best_models)\n",
    "if mod is not None:\n",
    "    try:     \n",
    "        sh_df=mod.scoring_history()\n",
    "        sh_df.to_csv(run_id+'_gbm_scoring_history.csv') \n",
    "    except:\n",
    "        pass   \n",
    "    try:     \n",
    "        stats_gbm={}\n",
    "        stats_gbm=gbm_stats(mod)\n",
    "        n=run_id+'_gbm_stats.json'\n",
    "        dict_to_json(stats_gbm,n)\n",
    "        print(stats_gbm)\n",
    "    except:\n",
    "        pass"
   ]
  },
  {
   "cell_type": "code",
   "execution_count": null,
   "metadata": {},
   "outputs": [],
   "source": [
    "data_pd = object.as_data_frame(use_pandas=True)"
   ]
  }
 ],
 "metadata": {
  "kernelspec": {
   "display_name": "Python 3",
   "language": "python",
   "name": "python3"
  },
  "language_info": {
   "codemirror_mode": {
    "name": "ipython",
    "version": 3
   },
   "file_extension": ".py",
   "mimetype": "text/x-python",
   "name": "python",
   "nbconvert_exporter": "python",
   "pygments_lexer": "ipython3",
   "version": "3.6.7"
  }
 },
 "nbformat": 4,
 "nbformat_minor": 2
}
