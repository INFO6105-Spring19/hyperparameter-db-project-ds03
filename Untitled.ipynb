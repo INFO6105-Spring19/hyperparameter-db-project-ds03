{
 "cells": [
  {
   "cell_type": "code",
   "execution_count": 2,
   "metadata": {},
   "outputs": [],
   "source": [
    "import h2o\n",
    "from h2o.automl import H2OAutoML\n",
    "import random, os, sys\n",
    "from datetime import datetime\n",
    "import pandas as pd\n",
    "import logging\n",
    "import csv\n",
    "import optparse\n",
    "import time\n",
    "import json\n",
    "from distutils.util import strtobool\n",
    "import psutil\n",
    "\n",
    "import warnings\n",
    "warnings.filterwarnings('ignore')"
   ]
  },
  {
   "cell_type": "code",
   "execution_count": 3,
   "metadata": {},
   "outputs": [
    {
     "name": "stdout",
     "output_type": "stream",
     "text": [
      "Checking whether there is an H2O instance running at http://localhost:45887 ..... not found.\n",
      "Attempting to start a local H2O server...\n",
      "; Java HotSpot(TM) 64-Bit Server VM (build 25.201-b09, mixed mode)\n",
      "  Starting server from C:\\Users\\Manvi\\Anaconda3\\lib\\site-packages\\h2o\\backend\\bin\\h2o.jar\n",
      "  Ice root: C:\\Users\\Manvi\\AppData\\Local\\Temp\\tmpib2oomzj\n",
      "  JVM stdout: C:\\Users\\Manvi\\AppData\\Local\\Temp\\tmpib2oomzj\\h2o_Manvi_started_from_python.out\n",
      "  JVM stderr: C:\\Users\\Manvi\\AppData\\Local\\Temp\\tmpib2oomzj\\h2o_Manvi_started_from_python.err\n",
      "  Server is running at http://127.0.0.1:45887\n",
      "Connecting to H2O server at http://127.0.0.1:45887 ... successful.\n"
     ]
    },
    {
     "data": {
      "text/html": [
       "<div style=\"overflow:auto\"><table style=\"width:50%\"><tr><td>H2O cluster uptime:</td>\n",
       "<td>02 secs</td></tr>\n",
       "<tr><td>H2O cluster timezone:</td>\n",
       "<td>America/New_York</td></tr>\n",
       "<tr><td>H2O data parsing timezone:</td>\n",
       "<td>UTC</td></tr>\n",
       "<tr><td>H2O cluster version:</td>\n",
       "<td>3.24.0.1</td></tr>\n",
       "<tr><td>H2O cluster version age:</td>\n",
       "<td>16 days </td></tr>\n",
       "<tr><td>H2O cluster name:</td>\n",
       "<td>H2O_from_python_Manvi_kgnzja</td></tr>\n",
       "<tr><td>H2O cluster total nodes:</td>\n",
       "<td>1</td></tr>\n",
       "<tr><td>H2O cluster free memory:</td>\n",
       "<td>4.792 Gb</td></tr>\n",
       "<tr><td>H2O cluster total cores:</td>\n",
       "<td>8</td></tr>\n",
       "<tr><td>H2O cluster allowed cores:</td>\n",
       "<td>8</td></tr>\n",
       "<tr><td>H2O cluster status:</td>\n",
       "<td>accepting new members, healthy</td></tr>\n",
       "<tr><td>H2O connection url:</td>\n",
       "<td>http://127.0.0.1:45887</td></tr>\n",
       "<tr><td>H2O connection proxy:</td>\n",
       "<td>None</td></tr>\n",
       "<tr><td>H2O internal security:</td>\n",
       "<td>False</td></tr>\n",
       "<tr><td>H2O API Extensions:</td>\n",
       "<td>Amazon S3, Algos, AutoML, Core V3, Core V4</td></tr>\n",
       "<tr><td>Python version:</td>\n",
       "<td>3.6.7 final</td></tr></table></div>"
      ],
      "text/plain": [
       "--------------------------  ------------------------------------------\n",
       "H2O cluster uptime:         02 secs\n",
       "H2O cluster timezone:       America/New_York\n",
       "H2O data parsing timezone:  UTC\n",
       "H2O cluster version:        3.24.0.1\n",
       "H2O cluster version age:    16 days\n",
       "H2O cluster name:           H2O_from_python_Manvi_kgnzja\n",
       "H2O cluster total nodes:    1\n",
       "H2O cluster free memory:    4.792 Gb\n",
       "H2O cluster total cores:    8\n",
       "H2O cluster allowed cores:  8\n",
       "H2O cluster status:         accepting new members, healthy\n",
       "H2O connection url:         http://127.0.0.1:45887\n",
       "H2O connection proxy:\n",
       "H2O internal security:      False\n",
       "H2O API Extensions:         Amazon S3, Algos, AutoML, Core V3, Core V4\n",
       "Python version:             3.6.7 final\n",
       "--------------------------  ------------------------------------------"
      ]
     },
     "metadata": {},
     "output_type": "display_data"
    }
   ],
   "source": [
    "port_no=random.randint(5555,55555)\n",
    "h2o.init(strict_version_check=False,min_mem_size_GB=5,port=port_no)"
   ]
  },
  {
   "cell_type": "code",
   "execution_count": 4,
   "metadata": {},
   "outputs": [
    {
     "name": "stdout",
     "output_type": "stream",
     "text": [
      "Parse progress: |█████████████████████████████████████████████████████████| 100%\n"
     ]
    }
   ],
   "source": [
    "#importing data to the server\n",
    "df = h2o.import_file(path=\"indian_liver_patient.csv\")"
   ]
  },
  {
   "cell_type": "code",
   "execution_count": 5,
   "metadata": {},
   "outputs": [
    {
     "data": {
      "text/html": [
       "<table>\n",
       "<thead>\n",
       "<tr><th style=\"text-align: right;\">  Age</th><th>Gender  </th><th style=\"text-align: right;\">  Total_Bilirubin</th><th style=\"text-align: right;\">  Direct_Bilirubin</th><th style=\"text-align: right;\">  Alkaline_Phosphotase</th><th style=\"text-align: right;\">  Alamine_Aminotransferase</th><th style=\"text-align: right;\">  Aspartate_Aminotransferase</th><th style=\"text-align: right;\">  Total_Protiens</th><th style=\"text-align: right;\">  Albumin</th><th style=\"text-align: right;\">  Albumin_and_Globulin_Ratio</th><th style=\"text-align: right;\">  Dataset</th></tr>\n",
       "</thead>\n",
       "<tbody>\n",
       "<tr><td style=\"text-align: right;\">   65</td><td>Female  </td><td style=\"text-align: right;\">              0.7</td><td style=\"text-align: right;\">               0.1</td><td style=\"text-align: right;\">                   187</td><td style=\"text-align: right;\">                        16</td><td style=\"text-align: right;\">                          18</td><td style=\"text-align: right;\">             6.8</td><td style=\"text-align: right;\">      3.3</td><td style=\"text-align: right;\">                        0.9 </td><td style=\"text-align: right;\">        1</td></tr>\n",
       "<tr><td style=\"text-align: right;\">   62</td><td>Male    </td><td style=\"text-align: right;\">             10.9</td><td style=\"text-align: right;\">               5.5</td><td style=\"text-align: right;\">                   699</td><td style=\"text-align: right;\">                        64</td><td style=\"text-align: right;\">                         100</td><td style=\"text-align: right;\">             7.5</td><td style=\"text-align: right;\">      3.2</td><td style=\"text-align: right;\">                        0.74</td><td style=\"text-align: right;\">        1</td></tr>\n",
       "<tr><td style=\"text-align: right;\">   62</td><td>Male    </td><td style=\"text-align: right;\">              7.3</td><td style=\"text-align: right;\">               4.1</td><td style=\"text-align: right;\">                   490</td><td style=\"text-align: right;\">                        60</td><td style=\"text-align: right;\">                          68</td><td style=\"text-align: right;\">             7  </td><td style=\"text-align: right;\">      3.3</td><td style=\"text-align: right;\">                        0.89</td><td style=\"text-align: right;\">        1</td></tr>\n",
       "<tr><td style=\"text-align: right;\">   58</td><td>Male    </td><td style=\"text-align: right;\">              1  </td><td style=\"text-align: right;\">               0.4</td><td style=\"text-align: right;\">                   182</td><td style=\"text-align: right;\">                        14</td><td style=\"text-align: right;\">                          20</td><td style=\"text-align: right;\">             6.8</td><td style=\"text-align: right;\">      3.4</td><td style=\"text-align: right;\">                        1   </td><td style=\"text-align: right;\">        1</td></tr>\n",
       "<tr><td style=\"text-align: right;\">   72</td><td>Male    </td><td style=\"text-align: right;\">              3.9</td><td style=\"text-align: right;\">               2  </td><td style=\"text-align: right;\">                   195</td><td style=\"text-align: right;\">                        27</td><td style=\"text-align: right;\">                          59</td><td style=\"text-align: right;\">             7.3</td><td style=\"text-align: right;\">      2.4</td><td style=\"text-align: right;\">                        0.4 </td><td style=\"text-align: right;\">        1</td></tr>\n",
       "<tr><td style=\"text-align: right;\">   46</td><td>Male    </td><td style=\"text-align: right;\">              1.8</td><td style=\"text-align: right;\">               0.7</td><td style=\"text-align: right;\">                   208</td><td style=\"text-align: right;\">                        19</td><td style=\"text-align: right;\">                          14</td><td style=\"text-align: right;\">             7.6</td><td style=\"text-align: right;\">      4.4</td><td style=\"text-align: right;\">                        1.3 </td><td style=\"text-align: right;\">        1</td></tr>\n",
       "<tr><td style=\"text-align: right;\">   26</td><td>Female  </td><td style=\"text-align: right;\">              0.9</td><td style=\"text-align: right;\">               0.2</td><td style=\"text-align: right;\">                   154</td><td style=\"text-align: right;\">                        16</td><td style=\"text-align: right;\">                          12</td><td style=\"text-align: right;\">             7  </td><td style=\"text-align: right;\">      3.5</td><td style=\"text-align: right;\">                        1   </td><td style=\"text-align: right;\">        1</td></tr>\n",
       "<tr><td style=\"text-align: right;\">   29</td><td>Female  </td><td style=\"text-align: right;\">              0.9</td><td style=\"text-align: right;\">               0.3</td><td style=\"text-align: right;\">                   202</td><td style=\"text-align: right;\">                        14</td><td style=\"text-align: right;\">                          11</td><td style=\"text-align: right;\">             6.7</td><td style=\"text-align: right;\">      3.6</td><td style=\"text-align: right;\">                        1.1 </td><td style=\"text-align: right;\">        1</td></tr>\n",
       "<tr><td style=\"text-align: right;\">   17</td><td>Male    </td><td style=\"text-align: right;\">              0.9</td><td style=\"text-align: right;\">               0.3</td><td style=\"text-align: right;\">                   202</td><td style=\"text-align: right;\">                        22</td><td style=\"text-align: right;\">                          19</td><td style=\"text-align: right;\">             7.4</td><td style=\"text-align: right;\">      4.1</td><td style=\"text-align: right;\">                        1.2 </td><td style=\"text-align: right;\">        2</td></tr>\n",
       "<tr><td style=\"text-align: right;\">   55</td><td>Male    </td><td style=\"text-align: right;\">              0.7</td><td style=\"text-align: right;\">               0.2</td><td style=\"text-align: right;\">                   290</td><td style=\"text-align: right;\">                        53</td><td style=\"text-align: right;\">                          58</td><td style=\"text-align: right;\">             6.8</td><td style=\"text-align: right;\">      3.4</td><td style=\"text-align: right;\">                        1   </td><td style=\"text-align: right;\">        1</td></tr>\n",
       "</tbody>\n",
       "</table>"
      ]
     },
     "metadata": {},
     "output_type": "display_data"
    },
    {
     "data": {
      "text/plain": []
     },
     "execution_count": 5,
     "metadata": {},
     "output_type": "execute_result"
    }
   ],
   "source": [
    "df.head()"
   ]
  },
  {
   "cell_type": "code",
   "execution_count": 6,
   "metadata": {},
   "outputs": [
    {
     "data": {
      "text/html": [
       "<table>\n",
       "<thead>\n",
       "<tr><th style=\"text-align: right;\">  isNA(Age)</th><th style=\"text-align: right;\">  isNA(Gender)</th><th style=\"text-align: right;\">  isNA(Total_Bilirubin)</th><th style=\"text-align: right;\">  isNA(Direct_Bilirubin)</th><th style=\"text-align: right;\">  isNA(Alkaline_Phosphotase)</th><th style=\"text-align: right;\">  isNA(Alamine_Aminotransferase)</th><th style=\"text-align: right;\">  isNA(Aspartate_Aminotransferase)</th><th style=\"text-align: right;\">  isNA(Total_Protiens)</th><th style=\"text-align: right;\">  isNA(Albumin)</th><th style=\"text-align: right;\">  isNA(Albumin_and_Globulin_Ratio)</th><th style=\"text-align: right;\">  isNA(Dataset)</th></tr>\n",
       "</thead>\n",
       "<tbody>\n",
       "<tr><td style=\"text-align: right;\">          0</td><td style=\"text-align: right;\">             0</td><td style=\"text-align: right;\">                      0</td><td style=\"text-align: right;\">                       0</td><td style=\"text-align: right;\">                           0</td><td style=\"text-align: right;\">                               0</td><td style=\"text-align: right;\">                                 0</td><td style=\"text-align: right;\">                     0</td><td style=\"text-align: right;\">              0</td><td style=\"text-align: right;\">                                 0</td><td style=\"text-align: right;\">              0</td></tr>\n",
       "<tr><td style=\"text-align: right;\">          0</td><td style=\"text-align: right;\">             0</td><td style=\"text-align: right;\">                      0</td><td style=\"text-align: right;\">                       0</td><td style=\"text-align: right;\">                           0</td><td style=\"text-align: right;\">                               0</td><td style=\"text-align: right;\">                                 0</td><td style=\"text-align: right;\">                     0</td><td style=\"text-align: right;\">              0</td><td style=\"text-align: right;\">                                 0</td><td style=\"text-align: right;\">              0</td></tr>\n",
       "<tr><td style=\"text-align: right;\">          0</td><td style=\"text-align: right;\">             0</td><td style=\"text-align: right;\">                      0</td><td style=\"text-align: right;\">                       0</td><td style=\"text-align: right;\">                           0</td><td style=\"text-align: right;\">                               0</td><td style=\"text-align: right;\">                                 0</td><td style=\"text-align: right;\">                     0</td><td style=\"text-align: right;\">              0</td><td style=\"text-align: right;\">                                 0</td><td style=\"text-align: right;\">              0</td></tr>\n",
       "<tr><td style=\"text-align: right;\">          0</td><td style=\"text-align: right;\">             0</td><td style=\"text-align: right;\">                      0</td><td style=\"text-align: right;\">                       0</td><td style=\"text-align: right;\">                           0</td><td style=\"text-align: right;\">                               0</td><td style=\"text-align: right;\">                                 0</td><td style=\"text-align: right;\">                     0</td><td style=\"text-align: right;\">              0</td><td style=\"text-align: right;\">                                 0</td><td style=\"text-align: right;\">              0</td></tr>\n",
       "<tr><td style=\"text-align: right;\">          0</td><td style=\"text-align: right;\">             0</td><td style=\"text-align: right;\">                      0</td><td style=\"text-align: right;\">                       0</td><td style=\"text-align: right;\">                           0</td><td style=\"text-align: right;\">                               0</td><td style=\"text-align: right;\">                                 0</td><td style=\"text-align: right;\">                     0</td><td style=\"text-align: right;\">              0</td><td style=\"text-align: right;\">                                 0</td><td style=\"text-align: right;\">              0</td></tr>\n",
       "<tr><td style=\"text-align: right;\">          0</td><td style=\"text-align: right;\">             0</td><td style=\"text-align: right;\">                      0</td><td style=\"text-align: right;\">                       0</td><td style=\"text-align: right;\">                           0</td><td style=\"text-align: right;\">                               0</td><td style=\"text-align: right;\">                                 0</td><td style=\"text-align: right;\">                     0</td><td style=\"text-align: right;\">              0</td><td style=\"text-align: right;\">                                 0</td><td style=\"text-align: right;\">              0</td></tr>\n",
       "<tr><td style=\"text-align: right;\">          0</td><td style=\"text-align: right;\">             0</td><td style=\"text-align: right;\">                      0</td><td style=\"text-align: right;\">                       0</td><td style=\"text-align: right;\">                           0</td><td style=\"text-align: right;\">                               0</td><td style=\"text-align: right;\">                                 0</td><td style=\"text-align: right;\">                     0</td><td style=\"text-align: right;\">              0</td><td style=\"text-align: right;\">                                 0</td><td style=\"text-align: right;\">              0</td></tr>\n",
       "<tr><td style=\"text-align: right;\">          0</td><td style=\"text-align: right;\">             0</td><td style=\"text-align: right;\">                      0</td><td style=\"text-align: right;\">                       0</td><td style=\"text-align: right;\">                           0</td><td style=\"text-align: right;\">                               0</td><td style=\"text-align: right;\">                                 0</td><td style=\"text-align: right;\">                     0</td><td style=\"text-align: right;\">              0</td><td style=\"text-align: right;\">                                 0</td><td style=\"text-align: right;\">              0</td></tr>\n",
       "<tr><td style=\"text-align: right;\">          0</td><td style=\"text-align: right;\">             0</td><td style=\"text-align: right;\">                      0</td><td style=\"text-align: right;\">                       0</td><td style=\"text-align: right;\">                           0</td><td style=\"text-align: right;\">                               0</td><td style=\"text-align: right;\">                                 0</td><td style=\"text-align: right;\">                     0</td><td style=\"text-align: right;\">              0</td><td style=\"text-align: right;\">                                 0</td><td style=\"text-align: right;\">              0</td></tr>\n",
       "<tr><td style=\"text-align: right;\">          0</td><td style=\"text-align: right;\">             0</td><td style=\"text-align: right;\">                      0</td><td style=\"text-align: right;\">                       0</td><td style=\"text-align: right;\">                           0</td><td style=\"text-align: right;\">                               0</td><td style=\"text-align: right;\">                                 0</td><td style=\"text-align: right;\">                     0</td><td style=\"text-align: right;\">              0</td><td style=\"text-align: right;\">                                 0</td><td style=\"text-align: right;\">              0</td></tr>\n",
       "</tbody>\n",
       "</table>"
      ]
     },
     "metadata": {},
     "output_type": "display_data"
    },
    {
     "data": {
      "text/plain": []
     },
     "execution_count": 6,
     "metadata": {},
     "output_type": "execute_result"
    }
   ],
   "source": [
    "df.isna()"
   ]
  },
  {
   "cell_type": "code",
   "execution_count": 60,
   "metadata": {},
   "outputs": [],
   "source": [
    "target = 'Dataset'\n",
    "run_time=500\n",
    "pct_memory=0.5\n",
    "server_path=None \n",
    "data_path=None\n",
    "all_variables=None\n",
    "test_path=None\n",
    "nthreads=1 \n",
    "name=None \n",
    "virtual_memory=psutil.virtual_memory()\n",
    "min_mem_size=int(round(int(pct_memory*virtual_memory.available)/1073741824,0))\n",
    "run_id='SOME_ID_20180617_221529' # Just some arbitrary ID\n",
    "classification=True\n",
    "scale=False\n",
    "max_models=None\n",
    "balance_y=False # balance_classes=balance_y\n",
    "balance_threshold=0.2\n",
    "project =\"automl_test\"\n",
    "analysis=0"
   ]
  },
  {
   "cell_type": "code",
   "execution_count": 61,
   "metadata": {},
   "outputs": [],
   "source": [
    "def alphabet(n):\n",
    "  alpha='0123456789abcdefghijklmnopqrstuvwxyzABCDEFGHIJKLMNOPQRSTUVWXYZ'    \n",
    "  str=''\n",
    "  r=len(alpha)-1   \n",
    "  while len(str)<n:\n",
    "    i=random.randint(0,r)\n",
    "    str+=alpha[i]   \n",
    "  return str\n",
    "\n",
    "\n",
    "def set_meta_data(analysis,run_id,server,data,test,model_path,target,run_time,classification,scale,model,balance,balance_threshold,name,path,nthreads,min_mem_size):\n",
    "  m_data={}\n",
    "  m_data['start_time'] = time.time()\n",
    "  m_data['target']=target\n",
    "  m_data['server_path']=server\n",
    "  m_data['data_path']=data \n",
    "  m_data['test_path']=test\n",
    "  m_data['max_models']=model\n",
    "  m_data['run_time']=run_time\n",
    "  m_data['run_id'] =run_id\n",
    "  m_data['scale']=scale\n",
    "  m_data['classification']=classification\n",
    "  m_data['scale']=False\n",
    "  m_data['model_path']=model_path\n",
    "  m_data['balance']=balance\n",
    "  m_data['balance_threshold']=balance_threshold\n",
    "  m_data['project'] =name\n",
    "  m_data['end_time'] = time.time()\n",
    "  m_data['execution_time'] = 0.0\n",
    "  m_data['run_path'] =path\n",
    "  m_data['nthreads'] = nthreads\n",
    "  m_data['min_mem_size'] = min_mem_size\n",
    "  m_data['analysis'] = analysis\n",
    "  return m_data\n",
    "\n",
    "\n",
    "def automl(maxruntime,X,Y,df):\n",
    "    aml = H2OAutoML(max_runtime_secs=maxruntime,exclude_algos = ['DeepLearning'])\n",
    "    aml.train(x=X,y=y,training_frame=df)\n",
    "    return aml\n",
    "\n",
    "\n",
    "def dict_to_json(dct,n):  \n",
    "    j = json.dumps(dct, indent=4)\n",
    "    f = open(n, 'w')\n",
    "    print(j, file=f)\n",
    "    f.close()"
   ]
  },
  {
   "cell_type": "code",
   "execution_count": 62,
   "metadata": {},
   "outputs": [
    {
     "name": "stdout",
     "output_type": "stream",
     "text": [
      "hqpEnMXvW\n"
     ]
    }
   ],
   "source": [
    "run_id=alphabet(9)\n",
    "if server_path==None:\n",
    "  server_path=os.path.abspath(os.curdir)\n",
    "os.chdir(server_path) \n",
    "run_dir = os.path.join(server_path,run_id)\n",
    "os.mkdir(run_dir)\n",
    "os.chdir(run_dir)    \n",
    "\n",
    "# run_id to std out\n",
    "print (run_id)"
   ]
  },
  {
   "cell_type": "code",
   "execution_count": 63,
   "metadata": {},
   "outputs": [
    {
     "name": "stdout",
     "output_type": "stream",
     "text": [
      "{'start_time': 1555525389.0410354, 'target': 'Dataset', 'server_path': 'C:\\\\Users\\\\Manvi\\\\Anaconda3\\\\indian-liver-patient-records\\\\iEyTWbRkD', 'data_path': None, 'test_path': None, 'max_models': None, 'run_time': 500, 'run_id': 'hqpEnMXvW', 'scale': False, 'classification': True, 'model_path': None, 'balance': False, 'balance_threshold': 0.2, 'project': None, 'end_time': 1555525389.0410354, 'execution_time': 0.0, 'run_path': 'C:\\\\Users\\\\Manvi\\\\Anaconda3\\\\indian-liver-patient-records\\\\iEyTWbRkD\\\\hqpEnMXvW', 'nthreads': 1, 'min_mem_size': 1, 'analysis': 0}\n"
     ]
    }
   ],
   "source": [
    "# meta data\n",
    "meta_data = set_meta_data(analysis, run_id,server_path,data_path,test_path,model_path,target,run_time,classification,scale,max_models,balance_y,balance_threshold,name,run_dir,nthreads,min_mem_size)\n",
    "print(meta_data)"
   ]
  },
  {
   "cell_type": "code",
   "execution_count": 64,
   "metadata": {},
   "outputs": [
    {
     "name": "stdout",
     "output_type": "stream",
     "text": [
      "['Age', 'Gender', 'Total_Bilirubin', 'Direct_Bilirubin', 'Alkaline_Phosphotase', 'Alamine_Aminotransferase', 'Aspartate_Aminotransferase', 'Total_Protiens', 'Albumin', 'Albumin_and_Globulin_Ratio']\n",
      "Dataset\n"
     ]
    }
   ],
   "source": [
    "y = target\n",
    "X=[name for name in df.columns if name != y]\n",
    "print(X)\n",
    "print(y)"
   ]
  },
  {
   "cell_type": "code",
   "execution_count": 70,
   "metadata": {},
   "outputs": [],
   "source": [
    "if analysis == 3:\n",
    "  classification=False\n",
    "elif analysis == 2:\n",
    "  classification=True\n",
    "elif analysis == 1:\n",
    "  classification=True"
   ]
  },
  {
   "cell_type": "code",
   "execution_count": 71,
   "metadata": {},
   "outputs": [],
   "source": [
    "if classification:\n",
    "    df[y] = df[y].asfactor()"
   ]
  },
  {
   "cell_type": "code",
   "execution_count": 72,
   "metadata": {},
   "outputs": [
    {
     "name": "stdout",
     "output_type": "stream",
     "text": [
      "[['1', '2']]\n"
     ]
    }
   ],
   "source": [
    "classification=True\n",
    "if classification:\n",
    "    print(df[y].levels())"
   ]
  },
  {
   "cell_type": "code",
   "execution_count": 73,
   "metadata": {},
   "outputs": [
    {
     "name": "stdout",
     "output_type": "stream",
     "text": [
      "[['1', '2']]\n"
     ]
    }
   ],
   "source": [
    "print(df[y].levels())"
   ]
  },
  {
   "cell_type": "code",
   "execution_count": null,
   "metadata": {},
   "outputs": [],
   "source": []
  },
  {
   "cell_type": "markdown",
   "metadata": {},
   "source": [
    "# Runtime: 500sec"
   ]
  },
  {
   "cell_type": "code",
   "execution_count": 74,
   "metadata": {},
   "outputs": [
    {
     "name": "stdout",
     "output_type": "stream",
     "text": [
      "AutoML progress: |████████████████████████████████████████████████████████| 100%\n"
     ]
    }
   ],
   "source": [
    "aml1 = automl(500,X,y,df)"
   ]
  },
  {
   "cell_type": "code",
   "execution_count": 75,
   "metadata": {},
   "outputs": [
    {
     "data": {
      "text/html": [
       "<table>\n",
       "<thead>\n",
       "<tr><th>model_id                                           </th><th style=\"text-align: right;\">     auc</th><th style=\"text-align: right;\">  logloss</th><th style=\"text-align: right;\">  mean_per_class_error</th><th style=\"text-align: right;\">    rmse</th><th style=\"text-align: right;\">     mse</th></tr>\n",
       "</thead>\n",
       "<tbody>\n",
       "<tr><td>StackedEnsemble_AllModels_AutoML_20190417_213624   </td><td style=\"text-align: right;\">0.761947</td><td style=\"text-align: right;\"> 0.503201</td><td style=\"text-align: right;\">              0.273211</td><td style=\"text-align: right;\">0.414165</td><td style=\"text-align: right;\">0.171532</td></tr>\n",
       "<tr><td>StackedEnsemble_BestOfFamily_AutoML_20190417_213624</td><td style=\"text-align: right;\">0.757917</td><td style=\"text-align: right;\"> 0.508168</td><td style=\"text-align: right;\">              0.285669</td><td style=\"text-align: right;\">0.416009</td><td style=\"text-align: right;\">0.173063</td></tr>\n",
       "<tr><td>GBM_grid_1_AutoML_20190417_213624_model_9          </td><td style=\"text-align: right;\">0.753966</td><td style=\"text-align: right;\"> 0.514163</td><td style=\"text-align: right;\">              0.294737</td><td style=\"text-align: right;\">0.415653</td><td style=\"text-align: right;\">0.172768</td></tr>\n",
       "<tr><td>GBM_grid_1_AutoML_20190417_213624_model_10         </td><td style=\"text-align: right;\">0.752044</td><td style=\"text-align: right;\"> 0.567652</td><td style=\"text-align: right;\">              0.282675</td><td style=\"text-align: right;\">0.437956</td><td style=\"text-align: right;\">0.191806</td></tr>\n",
       "<tr><td>GLM_grid_1_AutoML_20190417_213624_model_1          </td><td style=\"text-align: right;\">0.751699</td><td style=\"text-align: right;\"> 0.503103</td><td style=\"text-align: right;\">              0.2955  </td><td style=\"text-align: right;\">0.413658</td><td style=\"text-align: right;\">0.171113</td></tr>\n",
       "<tr><td>GBM_1_AutoML_20190417_213624                       </td><td style=\"text-align: right;\">0.751605</td><td style=\"text-align: right;\"> 0.527831</td><td style=\"text-align: right;\">              0.30667 </td><td style=\"text-align: right;\">0.42368 </td><td style=\"text-align: right;\">0.179505</td></tr>\n",
       "<tr><td>GBM_grid_1_AutoML_20190417_213624_model_5          </td><td style=\"text-align: right;\">0.751461</td><td style=\"text-align: right;\"> 0.509548</td><td style=\"text-align: right;\">              0.285208</td><td style=\"text-align: right;\">0.416129</td><td style=\"text-align: right;\">0.173163</td></tr>\n",
       "<tr><td>GBM_5_AutoML_20190417_213624                       </td><td style=\"text-align: right;\">0.748517</td><td style=\"text-align: right;\"> 0.514132</td><td style=\"text-align: right;\">              0.292463</td><td style=\"text-align: right;\">0.416471</td><td style=\"text-align: right;\">0.173448</td></tr>\n",
       "<tr><td>GBM_grid_1_AutoML_20190417_213624_model_2          </td><td style=\"text-align: right;\">0.745603</td><td style=\"text-align: right;\"> 0.525944</td><td style=\"text-align: right;\">              0.306188</td><td style=\"text-align: right;\">0.421992</td><td style=\"text-align: right;\">0.178078</td></tr>\n",
       "<tr><td>GBM_2_AutoML_20190417_213624                       </td><td style=\"text-align: right;\">0.74512 </td><td style=\"text-align: right;\"> 0.524234</td><td style=\"text-align: right;\">              0.292312</td><td style=\"text-align: right;\">0.42356 </td><td style=\"text-align: right;\">0.179403</td></tr>\n",
       "</tbody>\n",
       "</table>"
      ]
     },
     "metadata": {},
     "output_type": "display_data"
    },
    {
     "data": {
      "text/plain": []
     },
     "execution_count": 75,
     "metadata": {},
     "output_type": "execute_result"
    }
   ],
   "source": [
    "aml1.leaderboard"
   ]
  },
  {
   "cell_type": "code",
   "execution_count": 76,
   "metadata": {},
   "outputs": [
    {
     "data": {
      "text/plain": [
       "0      StackedEnsemble_AllModels_AutoML_20190417_213624\n",
       "1     StackedEnsemble_BestOfFamily_AutoML_20190417_2...\n",
       "2             GBM_grid_1_AutoML_20190417_213624_model_9\n",
       "3            GBM_grid_1_AutoML_20190417_213624_model_10\n",
       "4             GLM_grid_1_AutoML_20190417_213624_model_1\n",
       "5                          GBM_1_AutoML_20190417_213624\n",
       "6             GBM_grid_1_AutoML_20190417_213624_model_5\n",
       "7                          GBM_5_AutoML_20190417_213624\n",
       "8             GBM_grid_1_AutoML_20190417_213624_model_2\n",
       "9                          GBM_2_AutoML_20190417_213624\n",
       "10            GBM_grid_1_AutoML_20190417_213624_model_6\n",
       "11           GBM_grid_1_AutoML_20190417_213624_model_12\n",
       "12            GBM_grid_1_AutoML_20190417_213624_model_3\n",
       "13                         DRF_1_AutoML_20190417_213624\n",
       "14            GBM_grid_1_AutoML_20190417_213624_model_8\n",
       "15           GBM_grid_1_AutoML_20190417_213624_model_11\n",
       "16                         GBM_3_AutoML_20190417_213624\n",
       "17                         XRT_1_AutoML_20190417_213624\n",
       "18                         GBM_4_AutoML_20190417_213624\n",
       "19            GBM_grid_1_AutoML_20190417_213624_model_7\n",
       "20            GBM_grid_1_AutoML_20190417_213624_model_1\n",
       "21            GBM_grid_1_AutoML_20190417_213624_model_4\n",
       "Name: model_id, dtype: object"
      ]
     },
     "execution_count": 76,
     "metadata": {},
     "output_type": "execute_result"
    }
   ],
   "source": [
    "aml1_leaderboard_df=aml1.leaderboard.as_data_frame()\n",
    "model1_set=aml1_leaderboard_df['model_id']\n",
    "model1_set"
   ]
  },
  {
   "cell_type": "markdown",
   "metadata": {},
   "source": [
    "GBM Parameters"
   ]
  },
  {
   "cell_type": "code",
   "execution_count": 77,
   "metadata": {},
   "outputs": [],
   "source": [
    "mod_best=h2o.get_model(model1_set[2])\n",
    "parameters = mod_best.params\n",
    "dict_to_json(parameters,'GBM_grid_1_model_9_500')"
   ]
  },
  {
   "cell_type": "code",
   "execution_count": 78,
   "metadata": {},
   "outputs": [],
   "source": [
    "mod_best=h2o.get_model(model1_set[3])\n",
    "parameters = mod_best.params\n",
    "dict_to_json(parameters,'GBM_grid_1_model_10_500')"
   ]
  },
  {
   "cell_type": "code",
   "execution_count": 80,
   "metadata": {},
   "outputs": [],
   "source": [
    "mod_best=h2o.get_model(model1_set[5])\n",
    "parameters = mod_best.params\n",
    "dict_to_json(parameters,'GBM_1_AutoML_500')"
   ]
  },
  {
   "cell_type": "code",
   "execution_count": 81,
   "metadata": {},
   "outputs": [],
   "source": [
    "mod_best=h2o.get_model(model1_set[6])\n",
    "parameters = mod_best.params\n",
    "dict_to_json(parameters,'GBM_grid_1_model_5_500')"
   ]
  },
  {
   "cell_type": "code",
   "execution_count": 82,
   "metadata": {},
   "outputs": [],
   "source": [
    "mod_best=h2o.get_model(model1_set[7])\n",
    "parameters = mod_best.params\n",
    "dict_to_json(parameters,'GBM_5_AutoML_500')"
   ]
  },
  {
   "cell_type": "code",
   "execution_count": 83,
   "metadata": {},
   "outputs": [],
   "source": [
    "mod_best=h2o.get_model(model1_set[8])\n",
    "parameters = mod_best.params\n",
    "dict_to_json(parameters,'GBM_grid_1_model_2_500')"
   ]
  },
  {
   "cell_type": "code",
   "execution_count": 90,
   "metadata": {},
   "outputs": [],
   "source": [
    "mod_best=h2o.get_model(model1_set[9])\n",
    "parameters = mod_best.params\n",
    "dict_to_json(parameters,'GBM_2_AutoML_500')"
   ]
  },
  {
   "cell_type": "code",
   "execution_count": 85,
   "metadata": {},
   "outputs": [],
   "source": [
    "mod_best=h2o.get_model(model1_set[10])\n",
    "parameters = mod_best.params\n",
    "dict_to_json(parameters,'GBM_grid_1_model_6_500')"
   ]
  },
  {
   "cell_type": "code",
   "execution_count": 86,
   "metadata": {},
   "outputs": [],
   "source": [
    "mod_best=h2o.get_model(model1_set[11])\n",
    "parameters = mod_best.params\n",
    "dict_to_json(parameters,'GBM_grid_1_model_12_500')"
   ]
  },
  {
   "cell_type": "code",
   "execution_count": 87,
   "metadata": {},
   "outputs": [],
   "source": [
    "mod_best=h2o.get_model(model1_set[12])\n",
    "parameters = mod_best.params\n",
    "dict_to_json(parameters,'GBM_grid_1_model_3_500')"
   ]
  },
  {
   "cell_type": "code",
   "execution_count": 88,
   "metadata": {},
   "outputs": [],
   "source": [
    "mod_best=h2o.get_model(model1_set[14])\n",
    "parameters = mod_best.params\n",
    "dict_to_json(parameters,'GBM_grid_1_model_8_500')"
   ]
  },
  {
   "cell_type": "code",
   "execution_count": 89,
   "metadata": {},
   "outputs": [],
   "source": [
    "mod_best=h2o.get_model(model1_set[15])\n",
    "parameters = mod_best.params\n",
    "dict_to_json(parameters,'GBM_grid_1_model_11_500')"
   ]
  },
  {
   "cell_type": "code",
   "execution_count": 91,
   "metadata": {},
   "outputs": [],
   "source": [
    "mod_best=h2o.get_model(model1_set[16])\n",
    "parameters = mod_best.params\n",
    "dict_to_json(parameters,'GBM_3_AutoML_500')"
   ]
  },
  {
   "cell_type": "code",
   "execution_count": 92,
   "metadata": {},
   "outputs": [],
   "source": [
    "mod_best=h2o.get_model(model1_set[18])\n",
    "parameters = mod_best.params\n",
    "dict_to_json(parameters,'GBM_4_AutoML_500')"
   ]
  },
  {
   "cell_type": "code",
   "execution_count": 93,
   "metadata": {},
   "outputs": [],
   "source": [
    "mod_best=h2o.get_model(model1_set[19])\n",
    "parameters = mod_best.params\n",
    "dict_to_json(parameters,'GBM_grid_1_model_7_500')"
   ]
  },
  {
   "cell_type": "code",
   "execution_count": 94,
   "metadata": {},
   "outputs": [],
   "source": [
    "mod_best=h2o.get_model(model1_set[20])\n",
    "parameters = mod_best.params\n",
    "dict_to_json(parameters,'GBM_grid_1_model_1_500')"
   ]
  },
  {
   "cell_type": "code",
   "execution_count": 95,
   "metadata": {},
   "outputs": [],
   "source": [
    "mod_best=h2o.get_model(model1_set[21])\n",
    "parameters = mod_best.params\n",
    "dict_to_json(parameters,'GBM_grid_1_model_4_500')"
   ]
  },
  {
   "cell_type": "markdown",
   "metadata": {},
   "source": [
    "XRT Parameters"
   ]
  },
  {
   "cell_type": "code",
   "execution_count": 96,
   "metadata": {},
   "outputs": [],
   "source": [
    "mod_best=h2o.get_model(model1_set[17])\n",
    "parameters = mod_best.params\n",
    "dict_to_json(parameters,'XRT_1_500')"
   ]
  },
  {
   "cell_type": "markdown",
   "metadata": {},
   "source": [
    "GLM Parameters"
   ]
  },
  {
   "cell_type": "code",
   "execution_count": 97,
   "metadata": {},
   "outputs": [],
   "source": [
    "mod_best=h2o.get_model(model1_set[4])\n",
    "parameters = mod_best.params\n",
    "dict_to_json(parameters,'GLM_grid_1_model_1_500')"
   ]
  },
  {
   "cell_type": "markdown",
   "metadata": {},
   "source": [
    "DRF Parameters"
   ]
  },
  {
   "cell_type": "code",
   "execution_count": 98,
   "metadata": {},
   "outputs": [],
   "source": [
    "mod_best=h2o.get_model(model1_set[13])\n",
    "parameters = mod_best.params\n",
    "dict_to_json(parameters,'DRF_1_500')"
   ]
  },
  {
   "cell_type": "code",
   "execution_count": null,
   "metadata": {},
   "outputs": [],
   "source": []
  },
  {
   "cell_type": "markdown",
   "metadata": {},
   "source": [
    "# Runtime : 700sec"
   ]
  },
  {
   "cell_type": "code",
   "execution_count": 36,
   "metadata": {},
   "outputs": [
    {
     "name": "stdout",
     "output_type": "stream",
     "text": [
      "AutoML progress: |████████████████████████████████████████████████████████| 100%\n"
     ]
    }
   ],
   "source": [
    "aml2 = automl(700,X,y,df)"
   ]
  },
  {
   "cell_type": "code",
   "execution_count": 37,
   "metadata": {},
   "outputs": [
    {
     "data": {
      "text/html": [
       "<table>\n",
       "<thead>\n",
       "<tr><th>model_id                                           </th><th style=\"text-align: right;\">  mean_residual_deviance</th><th style=\"text-align: right;\">    rmse</th><th style=\"text-align: right;\">     mse</th><th style=\"text-align: right;\">     mae</th><th style=\"text-align: right;\">   rmsle</th></tr>\n",
       "</thead>\n",
       "<tbody>\n",
       "<tr><td>StackedEnsemble_BestOfFamily_AutoML_20190417_131422</td><td style=\"text-align: right;\">                0.16576 </td><td style=\"text-align: right;\">0.407136</td><td style=\"text-align: right;\">0.16576 </td><td style=\"text-align: right;\">0.334293</td><td style=\"text-align: right;\">0.165845</td></tr>\n",
       "<tr><td>StackedEnsemble_AllModels_AutoML_20190417_131422   </td><td style=\"text-align: right;\">                0.166334</td><td style=\"text-align: right;\">0.407841</td><td style=\"text-align: right;\">0.166334</td><td style=\"text-align: right;\">0.334425</td><td style=\"text-align: right;\">0.166096</td></tr>\n",
       "<tr><td>DRF_1_AutoML_20190417_131422                       </td><td style=\"text-align: right;\">                0.168449</td><td style=\"text-align: right;\">0.410426</td><td style=\"text-align: right;\">0.168449</td><td style=\"text-align: right;\">0.320391</td><td style=\"text-align: right;\">0.167587</td></tr>\n",
       "<tr><td>GBM_5_AutoML_20190417_132042                       </td><td style=\"text-align: right;\">                0.173699</td><td style=\"text-align: right;\">0.416773</td><td style=\"text-align: right;\">0.173699</td><td style=\"text-align: right;\">0.351766</td><td style=\"text-align: right;\">0.169562</td></tr>\n",
       "<tr><td>GBM_5_AutoML_20190417_131422                       </td><td style=\"text-align: right;\">                0.174134</td><td style=\"text-align: right;\">0.417294</td><td style=\"text-align: right;\">0.174134</td><td style=\"text-align: right;\">0.354874</td><td style=\"text-align: right;\">0.170098</td></tr>\n",
       "<tr><td>GBM_grid_1_AutoML_20190417_132042_model_17         </td><td style=\"text-align: right;\">                0.174752</td><td style=\"text-align: right;\">0.418033</td><td style=\"text-align: right;\">0.174752</td><td style=\"text-align: right;\">0.349471</td><td style=\"text-align: right;\">0.170469</td></tr>\n",
       "<tr><td>GBM_grid_1_AutoML_20190417_132042_model_3          </td><td style=\"text-align: right;\">                0.176951</td><td style=\"text-align: right;\">0.420656</td><td style=\"text-align: right;\">0.176951</td><td style=\"text-align: right;\">0.343796</td><td style=\"text-align: right;\">0.171729</td></tr>\n",
       "<tr><td>GBM_2_AutoML_20190417_132042                       </td><td style=\"text-align: right;\">                0.177242</td><td style=\"text-align: right;\">0.421001</td><td style=\"text-align: right;\">0.177242</td><td style=\"text-align: right;\">0.33778 </td><td style=\"text-align: right;\">0.171385</td></tr>\n",
       "<tr><td>GBM_grid_1_AutoML_20190417_132042_model_11         </td><td style=\"text-align: right;\">                0.177392</td><td style=\"text-align: right;\">0.42118 </td><td style=\"text-align: right;\">0.177392</td><td style=\"text-align: right;\">0.359638</td><td style=\"text-align: right;\">0.171409</td></tr>\n",
       "<tr><td>GBM_grid_1_AutoML_20190417_132042_model_16         </td><td style=\"text-align: right;\">                0.177435</td><td style=\"text-align: right;\">0.42123 </td><td style=\"text-align: right;\">0.177435</td><td style=\"text-align: right;\">0.354972</td><td style=\"text-align: right;\">0.172575</td></tr>\n",
       "</tbody>\n",
       "</table>"
      ]
     },
     "metadata": {},
     "output_type": "display_data"
    },
    {
     "data": {
      "text/plain": []
     },
     "execution_count": 37,
     "metadata": {},
     "output_type": "execute_result"
    }
   ],
   "source": [
    "aml2.leaderboard"
   ]
  },
  {
   "cell_type": "code",
   "execution_count": 38,
   "metadata": {},
   "outputs": [
    {
     "data": {
      "text/plain": [
       "0     StackedEnsemble_BestOfFamily_AutoML_20190417_1...\n",
       "1      StackedEnsemble_AllModels_AutoML_20190417_131422\n",
       "2                          DRF_1_AutoML_20190417_131422\n",
       "3                          GBM_5_AutoML_20190417_132042\n",
       "4                          GBM_5_AutoML_20190417_131422\n",
       "5            GBM_grid_1_AutoML_20190417_132042_model_17\n",
       "6             GBM_grid_1_AutoML_20190417_132042_model_3\n",
       "7                          GBM_2_AutoML_20190417_132042\n",
       "8            GBM_grid_1_AutoML_20190417_132042_model_11\n",
       "9            GBM_grid_1_AutoML_20190417_132042_model_16\n",
       "10                         GBM_2_AutoML_20190417_131422\n",
       "11                         DRF_1_AutoML_20190417_132042\n",
       "12                         GBM_4_AutoML_20190417_131422\n",
       "13                         GBM_3_AutoML_20190417_131422\n",
       "14                         GBM_1_AutoML_20190417_132042\n",
       "15           GBM_grid_1_AutoML_20190417_132042_model_10\n",
       "16            GLM_grid_1_AutoML_20190417_132042_model_1\n",
       "17            GLM_grid_1_AutoML_20190417_131422_model_1\n",
       "18                         GBM_4_AutoML_20190417_132042\n",
       "19                         XRT_1_AutoML_20190417_132042\n",
       "20            GBM_grid_1_AutoML_20190417_131422_model_6\n",
       "21                         GBM_1_AutoML_20190417_131422\n",
       "22            GBM_grid_1_AutoML_20190417_132042_model_1\n",
       "23                         GBM_3_AutoML_20190417_132042\n",
       "24            GBM_grid_1_AutoML_20190417_131422_model_5\n",
       "25            GBM_grid_1_AutoML_20190417_131422_model_1\n",
       "26            GBM_grid_1_AutoML_20190417_131422_model_7\n",
       "27           GBM_grid_1_AutoML_20190417_132042_model_13\n",
       "28            GBM_grid_1_AutoML_20190417_131422_model_4\n",
       "29                         XRT_1_AutoML_20190417_131422\n",
       "30            GBM_grid_1_AutoML_20190417_132042_model_8\n",
       "31            GBM_grid_1_AutoML_20190417_132042_model_9\n",
       "32            GBM_grid_1_AutoML_20190417_132042_model_7\n",
       "33           GBM_grid_1_AutoML_20190417_132042_model_12\n",
       "34            GBM_grid_1_AutoML_20190417_131422_model_3\n",
       "35           GBM_grid_1_AutoML_20190417_132042_model_14\n",
       "36            GBM_grid_1_AutoML_20190417_132042_model_6\n",
       "37            GBM_grid_1_AutoML_20190417_132042_model_4\n",
       "38           GBM_grid_1_AutoML_20190417_132042_model_15\n",
       "39            GBM_grid_1_AutoML_20190417_132042_model_2\n",
       "40            GBM_grid_1_AutoML_20190417_131422_model_2\n",
       "41            GBM_grid_1_AutoML_20190417_132042_model_5\n",
       "Name: model_id, dtype: object"
      ]
     },
     "execution_count": 38,
     "metadata": {},
     "output_type": "execute_result"
    }
   ],
   "source": [
    "aml2_leaderboard_df=aml2.leaderboard.as_data_frame()\n",
    "model2_set=aml2_leaderboard_df['model_id']\n",
    "model2_set"
   ]
  },
  {
   "cell_type": "code",
   "execution_count": 39,
   "metadata": {},
   "outputs": [],
   "source": [
    "mod_best=h2o.get_model(model1_set[2])\n",
    "parameters = mod_best.params\n",
    "dict_to_json(parameters,'GBM_grid_1_model_5_700')"
   ]
  },
  {
   "cell_type": "code",
   "execution_count": null,
   "metadata": {},
   "outputs": [],
   "source": []
  }
 ],
 "metadata": {
  "kernelspec": {
   "display_name": "Python 3",
   "language": "python",
   "name": "python3"
  },
  "language_info": {
   "codemirror_mode": {
    "name": "ipython",
    "version": 3
   },
   "file_extension": ".py",
   "mimetype": "text/x-python",
   "name": "python",
   "nbconvert_exporter": "python",
   "pygments_lexer": "ipython3",
   "version": "3.6.7"
  }
 },
 "nbformat": 4,
 "nbformat_minor": 2
}
